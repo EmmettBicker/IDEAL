{
 "cells": [
  {
   "cell_type": "code",
   "execution_count": null,
   "metadata": {},
   "outputs": [
    {
     "name": "stdout",
     "output_type": "stream",
     "text": [
      "Original: tensor([3, 7, 1, 4])\n",
      "Binary: tensor([[False, False, False,  True,  True],\n",
      "        [False, False,  True,  True,  True],\n",
      "        [False, False, False, False,  True],\n",
      "        [False, False,  True, False, False]])\n",
      "Binary ±1: tensor([[-1., -1., -1.,  1.,  1.],\n",
      "        [-1., -1.,  1.,  1.,  1.],\n",
      "        [-1., -1., -1., -1.,  1.],\n",
      "        [-1., -1.,  1., -1., -1.]])\n",
      "Result: tensor([[ 3.5320,  5.5540, -0.0498,  0.4776, -0.7976, -0.4892,  3.2240,  1.2253,\n",
      "          0.4904,  2.6632],\n",
      "        [ 0.0468,  4.2174, -1.0562,  1.0850,  0.1617, -2.3498,  3.8629, -0.9235,\n",
      "          0.2057,  1.5447],\n",
      "        [ 0.3956,  2.0965, -1.0915,  2.5430, -1.5810, -0.0095,  0.6735,  1.9378,\n",
      "          3.3176,  0.4343],\n",
      "        [-3.7520, -3.7692, -2.2102,  1.5761, -1.9113,  0.7019,  0.2726, -0.2429,\n",
      "          0.2764,  0.4782]])\n"
     ]
    }
   ],
   "source": [
    "import torch\n",
    "\n",
    "# Example starting tensors\n",
    "tensors = torch.tensor([3, 7, 1, 4])  # Example array of tensors\n",
    "\n",
    "def convert_to_indices(tensor: torch.Tensor) -> torch.Tensor:\n",
    "    # 1. Convert to binary representation\n",
    "    num_bits = 5\n",
    "    binary = tensors.unsqueeze(-1).bitwise_and(2**torch.arange(num_bits)).bool()\n",
    "    binary = binary.flip(-1)  # Flip to get MSB first\n",
    "\n",
    "    # 2. Convert zeros to -1s (False becomes -1, True stays 1)\n",
    "    binary_pm = 2 * binary.float() - 1  # Convert True/False to 1/-1\n",
    "\n",
    "    # 3. Matrix multiply with another matrix\n",
    "    matrix = torch.randn(num_bits, 10)  # Example matrix to multiply with\n",
    "    return binary_pm @ matrix\n",
    "\n",
    "print(\"Original:\", tensors)\n",
    "print(\"Binary:\", binary)\n",
    "print(\"Binary ±1:\", binary_pm)\n",
    "print(\"Result:\", result)"
   ]
  },
  {
   "cell_type": "code",
   "execution_count": null,
   "metadata": {},
   "outputs": [],
   "source": []
  }
 ],
 "metadata": {
  "kernelspec": {
   "display_name": "IDEAL",
   "language": "python",
   "name": "python3"
  },
  "language_info": {
   "codemirror_mode": {
    "name": "ipython",
    "version": 3
   },
   "file_extension": ".py",
   "mimetype": "text/x-python",
   "name": "python",
   "nbconvert_exporter": "python",
   "pygments_lexer": "ipython3",
   "version": "3.12.7"
  }
 },
 "nbformat": 4,
 "nbformat_minor": 2
}
